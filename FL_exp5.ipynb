{
 "cells": [
  {
   "cell_type": "code",
   "execution_count": 1,
   "id": "dc5a320f",
   "metadata": {},
   "outputs": [
    {
     "name": "stdout",
     "output_type": "stream",
     "text": [
      "2.1.0\n"
     ]
    }
   ],
   "source": [
    "import tensorflow as tf; print(tf.__version__)"
   ]
  },
  {
   "cell_type": "code",
   "execution_count": 2,
   "id": "87cfc843",
   "metadata": {},
   "outputs": [],
   "source": [
    "import nest_asyncio\n",
    "nest_asyncio.apply()\n",
    "import collections\n",
    "\n",
    "import numpy as np\n",
    "import tensorflow as tf\n",
    "import tensorflow_federated as tff\n",
    "from tqdm import tqdm\n",
    "from pathlib import Path\n",
    "\n",
    "from matplotlib import pyplot as plt\n",
    "from tensorflow.keras.preprocessing.image import ImageDataGenerator"
   ]
  },
  {
   "cell_type": "code",
   "execution_count": 3,
   "id": "357067ec",
   "metadata": {},
   "outputs": [],
   "source": [
    "def plot_graph(X, y, format = '-', label=''):\n",
    "    plt.plot(X, y, format, label=label)\n",
    "    plt.xlabel(\"Epoch\")\n",
    "    plt.ylabel(\"Value\")\n",
    "    plt.grid(True)\n",
    "np.random.seed(0)\n",
    "\n",
    "tff.federated_computation(lambda: 'Hello, World!')()\n",
    "\n",
    "experiment_name = \"xray_image_dataset\"\n",
    "method = \"tff_training\"\n",
    "this_dir = Path.cwd()\n",
    "model_dir = this_dir / \"saved_models\" / experiment_name / method\n",
    "output_dir = this_dir / \"results\" / experiment_name / method"
   ]
  },
  {
   "cell_type": "code",
   "execution_count": 4,
   "id": "3de8b4d4",
   "metadata": {},
   "outputs": [
    {
     "name": "stdout",
     "output_type": "stream",
     "text": [
      "Found 5144 images belonging to 3 classes.\n",
      "Found 1288 images belonging to 3 classes.\n"
     ]
    }
   ],
   "source": [
    "\n",
    "\n",
    "# Data generators\n",
    "train_dir='Data/train/'\n",
    "validation_dir='Data/test/'\n",
    "batch_size=10\n",
    "\n",
    "train_datagen = ImageDataGenerator(\n",
    "      rescale=1./255,\n",
    "      rotation_range=40,\n",
    "      width_shift_range=0.2,\n",
    "      height_shift_range=0.2,\n",
    "      shear_range=0.2,\n",
    "      zoom_range=0.2,\n",
    "      horizontal_flip=True,\n",
    "      fill_mode='nearest')\n",
    "\n",
    "# Note that the validation data should not be augmented!\n",
    "test_datagen =  ImageDataGenerator(\n",
    "      rescale=1./255)\n",
    "\n",
    "train_generator = train_datagen.flow_from_directory(\n",
    "        # This is the target directory\n",
    "        train_dir,\n",
    "        # All images will be resized to 32x32\n",
    "        target_size=(32, 32),\n",
    "        batch_size=batch_size,\n",
    "        # Since we use categorical_crossentropy loss, we need binary labels\n",
    "        class_mode='categorical', color_mode = \"grayscale\")\n",
    "\n",
    "validation_generator = test_datagen.flow_from_directory(\n",
    "        validation_dir,\n",
    "        target_size=(32, 32),\n",
    "        batch_size=batch_size,\n",
    "        class_mode='categorical', color_mode = \"grayscale\")"
   ]
  },
  {
   "cell_type": "code",
   "execution_count": 5,
   "id": "4c4cd7f6",
   "metadata": {},
   "outputs": [
    {
     "name": "stderr",
     "output_type": "stream",
     "text": [
      "100%|██████████| 514/514 [03:12<00:00,  2.68it/s]"
     ]
    },
    {
     "name": "stdout",
     "output_type": "stream",
     "text": [
      "(5144, 32, 32, 1) (5144, 3)\n"
     ]
    },
    {
     "name": "stderr",
     "output_type": "stream",
     "text": [
      "\n"
     ]
    }
   ],
   "source": [
    "\n",
    "# Store the data in X_train, y_train variables by iterating over the batches\n",
    "train_generator.reset()\n",
    "X_train, y_train = next(train_generator)\n",
    "for i in tqdm(range(int(len(train_generator))-1)): #1st batch is already fetched before the for loop.\n",
    "    img, label = next(train_generator)\n",
    "    X_train = np.append(X_train, img, axis=0 )\n",
    "    y_train = np.append(y_train, label, axis=0)\n",
    "print(X_train.shape, y_train.shape)\n"
   ]
  },
  {
   "cell_type": "code",
   "execution_count": 6,
   "id": "31bb8b65",
   "metadata": {},
   "outputs": [
    {
     "name": "stderr",
     "output_type": "stream",
     "text": [
      "100%|██████████| 128/128 [00:42<00:00,  2.98it/s]"
     ]
    },
    {
     "name": "stdout",
     "output_type": "stream",
     "text": [
      "(1288, 32, 32, 1) (1288, 3)\n"
     ]
    },
    {
     "name": "stderr",
     "output_type": "stream",
     "text": [
      "\n"
     ]
    }
   ],
   "source": [
    "\n",
    "validation_generator.reset()\n",
    "X_test, y_test = next(validation_generator)\n",
    "for i in tqdm(range(int(len(validation_generator))-1)): #1st batch is already fetched before the for loop.\n",
    "    img, label = next(validation_generator)\n",
    "    X_test = np.append(X_test, img, axis=0 )\n",
    "    y_test = np.append(y_test, label, axis=0)\n",
    "\n",
    "print(X_test.shape, y_test.shape)\n"
   ]
  },
  {
   "cell_type": "code",
   "execution_count": 7,
   "id": "36cf6bc2",
   "metadata": {},
   "outputs": [],
   "source": [
    "X_test = X_test.astype(np.float32)\n",
    "y_test =  np.argmax(y_test, axis=-1).reshape([1288,1]).astype(np.int32)\n"
   ]
  },
  {
   "cell_type": "code",
   "execution_count": 8,
   "id": "d520686e",
   "metadata": {},
   "outputs": [],
   "source": [
    "X_train = X_train.astype(np.float32)\n",
    "y_train =  np.argmax(y_train, axis=-1).reshape([5144,1]).astype(np.int32)"
   ]
  },
  {
   "cell_type": "code",
   "execution_count": 9,
   "id": "3116b0b0",
   "metadata": {},
   "outputs": [
    {
     "data": {
      "text/plain": [
       "array([[2],\n",
       "       [2],\n",
       "       [2],\n",
       "       ...,\n",
       "       [1],\n",
       "       [2],\n",
       "       [2]], dtype=int32)"
      ]
     },
     "execution_count": 9,
     "metadata": {},
     "output_type": "execute_result"
    }
   ],
   "source": [
    "y_train"
   ]
  },
  {
   "cell_type": "code",
   "execution_count": 10,
   "id": "8b500037",
   "metadata": {},
   "outputs": [],
   "source": [
    "\n",
    "split=4 #Number of clients \n",
    "total_image_count = len(X_train)\n",
    "image_per_set = int(np.floor(total_image_count/split))"
   ]
  },
  {
   "cell_type": "code",
   "execution_count": 11,
   "id": "ca923e87",
   "metadata": {},
   "outputs": [
    {
     "name": "stdout",
     "output_type": "stream",
     "text": [
      "Adding data from 0 to 1286 for client : client_1\n",
      "Adding data from 1286 to 2572 for client : client_2\n",
      "Adding data from 2572 to 3858 for client : client_3\n",
      "Adding data from 3858 to 5144 for client : client_4\n"
     ]
    }
   ],
   "source": [
    "client_train_dataset = collections.OrderedDict()\n",
    "for i in range(1, split+1):\n",
    "    client_name = \"client_\" + str(i)\n",
    "    start = image_per_set * (i-1)\n",
    "    end = image_per_set * i\n",
    "\n",
    "    print(f\"Adding data from {start} to {end} for client : {client_name}\")\n",
    "    data = collections.OrderedDict((('label', y_train[start:end]), ('pixels', X_train[start:end])))\n",
    "    client_train_dataset[client_name] = data\n",
    "\n"
   ]
  },
  {
   "cell_type": "code",
   "execution_count": 12,
   "id": "d5236313",
   "metadata": {},
   "outputs": [
    {
     "name": "stdout",
     "output_type": "stream",
     "text": [
      "4\n",
      "(None, 32, 32, 1)\n",
      "(None, 32, 32, 1)\n",
      "(None, 32, 32, 1)\n",
      "(None, 32, 32, 1)\n",
      "(None, 32, 32, 1)\n",
      "Number of client datasets: 4\n",
      "First dataset: <PrefetchDataset shapes: OrderedDict([(x, (None, 32, 32, 1)), (y, (None, 1))]), types: OrderedDict([(x, tf.float32), (y, tf.int32)])>\n"
     ]
    }
   ],
   "source": [
    "\n",
    "\n",
    "from tensorflow import reshape, nest, config\n",
    "NUM_EPOCHS=5\n",
    "BATCH_SIZE=10\n",
    "PREFETCH_BUFFER = 10\n",
    "\n",
    "print(len(client_train_dataset))\n",
    "\n",
    "\n",
    "train_dataset = tff.simulation.FromTensorSlicesClientData(client_train_dataset)\n",
    "\n",
    "sample_dataset = train_dataset.create_tf_dataset_for_client(train_dataset.client_ids[0])\n",
    "#print(sample_dataset['pixels'])\n",
    "sample_element = next(iter(sample_dataset))\n",
    "\n",
    "SHUFFLE_BUFFER = image_per_set\n",
    "\n",
    "def preprocess(dataset):\n",
    "\n",
    "    def batch_format_fn(element):\n",
    "        \"\"\"Flatten a batch `pixels` and return the features as an `OrderedDict`.\"\"\"\n",
    "        print(element['pixels'].get_shape())\n",
    "        return collections.OrderedDict(\n",
    "            x=reshape(element['pixels'], [-1, 32, 32, 1]),\n",
    "            y=reshape(element['label'], [-1, 1]))\n",
    "\n",
    "\n",
    "\n",
    "    return dataset.repeat(NUM_EPOCHS).shuffle(SHUFFLE_BUFFER).batch(\n",
    "        BATCH_SIZE).map(batch_format_fn).prefetch(PREFETCH_BUFFER)\n",
    "\n",
    "\n",
    "preprocessed_sample_dataset = preprocess(sample_dataset)\n",
    "sample_batch = nest.map_structure(lambda x: x.numpy(), next(iter(preprocessed_sample_dataset)))\n",
    "\n",
    "\n",
    "def make_federated_data(client_data, client_ids):\n",
    "    return [preprocess(client_data.create_tf_dataset_for_client(x)) for x in client_ids]\n",
    "\n",
    "federated_train_data = make_federated_data(train_dataset, train_dataset.client_ids)\n",
    "\n",
    "print('Number of client datasets: {l}'.format(l=len(federated_train_data)))\n",
    "print('First dataset: {d}'.format(d=federated_train_data[0]))\n"
   ]
  },
  {
   "cell_type": "code",
   "execution_count": 13,
   "id": "f43a0d01",
   "metadata": {},
   "outputs": [],
   "source": [
    "from tensorflow.keras import Sequential\n",
    "from tensorflow.keras.layers import Conv2D, MaxPool2D, Flatten, Dense, Dropout\n",
    "\n",
    "\n",
    "def create_keras_model():\n",
    "    model = Sequential([\n",
    "        Conv2D(32, (3, 3), activation='relu', input_shape=(32, 32, 1)),\n",
    "        #MaxPool2D(pool_size=(2, 2)),\n",
    "        Conv2D(32, (3, 3), activation='relu'),\n",
    "        MaxPool2D(pool_size=(2, 2)),\n",
    "        Flatten(),\n",
    "        Dense(32, activation='relu'),\n",
    "        Dense(64, activation='relu'),\n",
    "        Dropout(0.3),\n",
    "        Dense(3, activation='softmax')\n",
    "\n",
    "    ])\n",
    "    return model\n"
   ]
  },
  {
   "cell_type": "code",
   "execution_count": 14,
   "id": "0161fdd3",
   "metadata": {},
   "outputs": [
    {
     "name": "stdout",
     "output_type": "stream",
     "text": [
      "WARNING:tensorflow:From /Users/sreedevic/anaconda3/envs/tensorflow-old/lib/python3.6/site-packages/tensorflow_core/python/ops/resource_variable_ops.py:1635: calling BaseResourceVariable.__init__ (from tensorflow.python.ops.resource_variable_ops) with constraint is deprecated and will be removed in a future version.\n",
      "Instructions for updating:\n",
      "If using Keras pass *_constraint arguments to layers.\n"
     ]
    },
    {
     "name": "stderr",
     "output_type": "stream",
     "text": [
      "WARNING:tensorflow:From /Users/sreedevic/anaconda3/envs/tensorflow-old/lib/python3.6/site-packages/tensorflow_core/python/ops/resource_variable_ops.py:1635: calling BaseResourceVariable.__init__ (from tensorflow.python.ops.resource_variable_ops) with constraint is deprecated and will be removed in a future version.\n",
      "Instructions for updating:\n",
      "If using Keras pass *_constraint arguments to layers.\n"
     ]
    },
    {
     "name": "stdout",
     "output_type": "stream",
     "text": [
      "WARNING:tensorflow:From /Users/sreedevic/anaconda3/envs/tensorflow-old/lib/python3.6/site-packages/tensorflow_core/python/keras/optimizer_v2/adagrad.py:103: calling Constant.__init__ (from tensorflow.python.ops.init_ops) with dtype is deprecated and will be removed in a future version.\n",
      "Instructions for updating:\n",
      "Call initializer instance with the dtype argument instead of passing it to the constructor\n"
     ]
    },
    {
     "name": "stderr",
     "output_type": "stream",
     "text": [
      "WARNING:tensorflow:From /Users/sreedevic/anaconda3/envs/tensorflow-old/lib/python3.6/site-packages/tensorflow_core/python/keras/optimizer_v2/adagrad.py:103: calling Constant.__init__ (from tensorflow.python.ops.init_ops) with dtype is deprecated and will be removed in a future version.\n",
      "Instructions for updating:\n",
      "Call initializer instance with the dtype argument instead of passing it to the constructor\n"
     ]
    },
    {
     "name": "stdout",
     "output_type": "stream",
     "text": [
      "( -> <model=<trainable=<float32[3,3,1,32],float32[32],float32[3,3,32,32],float32[32],float32[6272,32],float32[32],float32[32,64],float32[64],float32[64,3],float32[3]>,non_trainable=<>>,optimizer_state=<int64,float32[3,3,1,32],float32[32],float32[3,3,32,32],float32[32],float32[6272,32],float32[32],float32[32,64],float32[64],float32[64,3],float32[3]>,delta_aggregate_state=<>,model_broadcast_state=<>>@SERVER)\n",
      "round  1, metrics=<sparse_categorical_accuracy=0.6580870747566223,loss=0.869968831539154,keras_training_time_client_sum_sec=0.0>\n",
      "Eval loss : 0.8210908785369826 and Eval accuracy : 0.6638198494911194\n",
      "round  2, metrics=<sparse_categorical_accuracy=0.6640746593475342,loss=0.8223348259925842,keras_training_time_client_sum_sec=0.0>\n",
      "Eval loss : 0.8166879334064744 and Eval accuracy : 0.6638198494911194\n",
      "round  3, metrics=<sparse_categorical_accuracy=0.6660575270652771,loss=0.7600290775299072,keras_training_time_client_sum_sec=0.0>\n",
      "Eval loss : 0.7392124926081355 and Eval accuracy : 0.6692546606063843\n",
      "round  4, metrics=<sparse_categorical_accuracy=0.6756221055984497,loss=0.7059249877929688,keras_training_time_client_sum_sec=0.0>\n",
      "Eval loss : 0.7683828647092262 and Eval accuracy : 0.7973602414131165\n",
      "round  5, metrics=<sparse_categorical_accuracy=0.6965785622596741,loss=0.6698216199874878,keras_training_time_client_sum_sec=0.0>\n",
      "Eval loss : 0.6324422307636427 and Eval accuracy : 0.7981366515159607\n",
      "round  6, metrics=<sparse_categorical_accuracy=0.7196733951568604,loss=0.6359845995903015,keras_training_time_client_sum_sec=0.0>\n",
      "Eval loss : 0.6579847813393018 and Eval accuracy : 0.7484471797943115\n",
      "round  7, metrics=<sparse_categorical_accuracy=0.7322705984115601,loss=0.6120258569717407,keras_training_time_client_sum_sec=0.0>\n",
      "Eval loss : 0.5546185022555523 and Eval accuracy : 0.7973602414131165\n",
      "round  8, metrics=<sparse_categorical_accuracy=0.7452177405357361,loss=0.593673825263977,keras_training_time_client_sum_sec=0.0>\n",
      "Eval loss : 0.7613809664056909 and Eval accuracy : 0.5427018404006958\n",
      "round  9, metrics=<sparse_categorical_accuracy=0.7503499388694763,loss=0.5810821056365967,keras_training_time_client_sum_sec=0.0>\n",
      "Eval loss : 0.5074913771996586 and Eval accuracy : 0.7686335444450378\n",
      "round 10, metrics=<sparse_categorical_accuracy=0.7600311040878296,loss=0.5677327513694763,keras_training_time_client_sum_sec=0.0>\n",
      "Eval loss : 0.61172348223858 and Eval accuracy : 0.6863353848457336\n",
      "round 11, metrics=<sparse_categorical_accuracy=0.7692457437515259,loss=0.5519165396690369,keras_training_time_client_sum_sec=0.0>\n",
      "Eval loss : 0.5393899842078641 and Eval accuracy : 0.736801266670227\n",
      "round 12, metrics=<sparse_categorical_accuracy=0.7754665613174438,loss=0.5411456823348999,keras_training_time_client_sum_sec=0.0>\n",
      "Eval loss : 0.6167711856202309 and Eval accuracy : 0.6723602414131165\n",
      "round 13, metrics=<sparse_categorical_accuracy=0.7816096544265747,loss=0.5340899229049683,keras_training_time_client_sum_sec=0.0>\n",
      "Eval loss : 0.6111668977678192 and Eval accuracy : 0.6824533939361572\n",
      "round 14, metrics=<sparse_categorical_accuracy=0.7851088643074036,loss=0.5229541063308716,keras_training_time_client_sum_sec=0.0>\n",
      "Eval loss : 0.4640977042061942 and Eval accuracy : 0.8004658222198486\n",
      "round 15, metrics=<sparse_categorical_accuracy=0.7891135215759277,loss=0.5155665874481201,keras_training_time_client_sum_sec=0.0>\n",
      "Eval loss : 0.8562567818979299 and Eval accuracy : 0.5201863646507263\n"
     ]
    }
   ],
   "source": [
    "\n",
    "import collections\n",
    "import numpy as np\n",
    "from tensorflow.keras.datasets import mnist\n",
    "from tensorflow import reshape, nest, config\n",
    "from tensorflow.keras import losses, metrics, optimizers\n",
    "import tensorflow_federated as tff\n",
    "from matplotlib import pyplot as plt\n",
    "from pathlib import Path\n",
    "\n",
    "method = \"tff_training\"\n",
    "client_lr = 1e-3\n",
    "server_lr = 1e-3\n",
    "NUM_ROUNDS = 15\n",
    "\n",
    "\n",
    "def model_fn():\n",
    "  # We _must_ create a new model here, and _not_ capture it from an external\n",
    "  # scope. TFF will call this within different graph contexts.\n",
    "\n",
    "    keras_model = create_keras_model()\n",
    "    return tff.learning.from_keras_model(\n",
    "      keras_model,\n",
    "      input_spec=preprocessed_sample_dataset.element_spec,\n",
    "      loss=losses.SparseCategoricalCrossentropy(),\n",
    "      metrics=[metrics.SparseCategoricalAccuracy()])\n",
    "\n",
    "\n",
    "iterative_process = tff.learning.build_federated_averaging_process(\n",
    "    model_fn,\n",
    "    client_optimizer_fn=lambda: optimizers.Adagrad(learning_rate=client_lr),\n",
    "    server_optimizer_fn=lambda: optimizers.RMSprop(learning_rate=server_lr))\n",
    "\n",
    "print(str(iterative_process.initialize.type_signature))\n",
    "\n",
    "state = iterative_process.initialize()\n",
    "\n",
    "tff_train_acc = []\n",
    "tff_val_acc = []\n",
    "tff_train_loss = []\n",
    "tff_val_loss = []\n",
    "\n",
    "eval_model = None\n",
    "for round_num in range(1, NUM_ROUNDS+1):\n",
    "    state, tff_metrics = iterative_process.next(state, federated_train_data)\n",
    "    eval_model = create_keras_model()\n",
    "    eval_model.compile(optimizer=optimizers.Adam(learning_rate=client_lr),\n",
    "                       loss=losses.SparseCategoricalCrossentropy(),\n",
    "                       metrics=[metrics.SparseCategoricalAccuracy()])\n",
    "\n",
    "    tff.learning.assign_weights_to_keras_model(eval_model, state.model)\n",
    "\n",
    "    ev_result = eval_model.evaluate(X_test, y_test, verbose=0)\n",
    "    print('round {:2d}, metrics={}'.format(round_num, tff_metrics))\n",
    "    print(f\"Eval loss : {ev_result[0]} and Eval accuracy : {ev_result[1]}\")\n",
    "    tff_train_acc.append(float(tff_metrics.sparse_categorical_accuracy))\n",
    "    tff_val_acc.append(ev_result[1])\n",
    "    tff_train_loss.append(float(tff_metrics.loss))\n",
    "    tff_val_loss.append(ev_result[0])\n",
    "\n",
    "metric_collection = {\"sparse_categorical_accuracy\": tff_train_acc,\n",
    "                     \"val_sparse_categorical_accuracy\": tff_val_acc,\n",
    "                     \"loss\": tff_train_loss,\n",
    "                     \"val_loss\": tff_val_loss}"
   ]
  },
  {
   "cell_type": "code",
   "execution_count": 15,
   "id": "7d15fc1b",
   "metadata": {},
   "outputs": [
    {
     "data": {
      "image/png": "[encoded data removed]",
      "text/plain": [
       "<Figure size 720x432 with 1 Axes>"
      ]
     },
     "metadata": {
      "needs_background": "light"
     },
     "output_type": "display_data"
    },
    {
     "data": {
      "image/png": "[encoded data removed]",
      "text/plain": [
       "<Figure size 720x432 with 1 Axes>"
      ]
     },
     "metadata": {
      "needs_background": "light"
     },
     "output_type": "display_data"
    }
   ],
   "source": [
    "\n",
    "fig = plt.figure(figsize=(10, 6))\n",
    "plot_graph(list(range(1, 76))[4::5], tff_train_acc, label='Train Accuracy')\n",
    "plot_graph(list(range(1, 76))[4::5], tff_val_acc, label='Validation Accuracy')\n",
    "plt.legend()\n",
    "plt.savefig(output_dir / \"federated_model_Accuracy.png\")\n",
    "\n",
    "plt.figure(figsize=(10, 6))\n",
    "plot_graph(list(range(1, 76))[4::5], tff_train_loss, label='Train loss')\n",
    "plot_graph(list(range(1, 76))[4::5], tff_val_loss, label='Validation loss')\n",
    "plt.legend()\n",
    "plt.savefig(output_dir / \"federated_model_loss.png\")\n"
   ]
  },
  {
   "cell_type": "code",
   "execution_count": 16,
   "id": "d1902213",
   "metadata": {},
   "outputs": [],
   "source": [
    "# saving metric values to text file\n",
    "\n",
    "txt_file_path = output_dir / (experiment_name + \".txt\")\n",
    "with open(txt_file_path.as_posix(), \"w\") as handle:\n",
    "    content = []\n",
    "    for key, val in metric_collection.items():\n",
    "        line_content = key\n",
    "        val = [str(k) for k in val]\n",
    "        line_content = line_content + \" \" + \" \".join(val)\n",
    "        content.append(line_content)\n",
    "    handle.write(\"\\n\".join(content))"
   ]
  },
  {
   "cell_type": "code",
   "execution_count": 25,
   "id": "a48b9255",
   "metadata": {},
   "outputs": [],
   "source": [
    "y_pred = eval_model.predict(X_test)\n",
    "y_prediction_test=np.argmax(y_pred, axis=-1)\n",
    "\n",
    "\n",
    "y_pred = eval_model.predict(X_train)\n",
    "y_prediction_train=np.argmax(y_pred, axis=-1)\n"
   ]
  },
  {
   "cell_type": "code",
   "execution_count": 26,
   "id": "257d9cec",
   "metadata": {},
   "outputs": [
    {
     "name": "stdout",
     "output_type": "stream",
     "text": [
      "              precision    recall  f1-score   support\n",
      "\n",
      "           0       1.00      0.19      0.32       116\n",
      "           1       0.35      1.00      0.51       317\n",
      "           2       0.94      0.39      0.55       855\n",
      "\n",
      "    accuracy                           0.52      1288\n",
      "   macro avg       0.76      0.53      0.46      1288\n",
      "weighted avg       0.80      0.52      0.52      1288\n",
      "\n"
     ]
    },
    {
     "data": {
      "image/png": "[encoded data removed]",
      "text/plain": [
       "<Figure size 432x288 with 2 Axes>"
      ]
     },
     "metadata": {
      "needs_background": "light"
     },
     "output_type": "display_data"
    }
   ],
   "source": [
    "from sklearn.metrics import classification_report, confusion_matrix\n",
    "matrix=confusion_matrix(y_test,y_prediction_test)\n",
    "import seaborn as sns\n",
    "x_axis_labels = ['Covid','Normal','Pnuemonia'] # labels for x-axis\n",
    "y_axis_labels = ['Covid','Normal','Pnuemonia']# labels for y-axis\n",
    "\n",
    "# create seabvorn heatmap with required labels\n",
    "sns.heatmap(matrix, xticklabels=x_axis_labels, yticklabels=y_axis_labels,annot=True)\n",
    "\n",
    "\n",
    "print(classification_report(y_test,y_prediction_test))"
   ]
  },
  {
   "cell_type": "code",
   "execution_count": 27,
   "id": "5e7f2a89",
   "metadata": {},
   "outputs": [
    {
     "name": "stdout",
     "output_type": "stream",
     "text": [
      "              precision    recall  f1-score   support\n",
      "\n",
      "           0       0.91      0.30      0.45       460\n",
      "           1       0.51      0.93      0.66      1266\n",
      "           2       0.90      0.71      0.79      3418\n",
      "\n",
      "    accuracy                           0.73      5144\n",
      "   macro avg       0.78      0.65      0.63      5144\n",
      "weighted avg       0.81      0.73      0.73      5144\n",
      "\n"
     ]
    },
    {
     "data": {
      "image/png": "[encoded data removed]",
      "text/plain": [
       "<Figure size 432x288 with 2 Axes>"
      ]
     },
     "metadata": {
      "needs_background": "light"
     },
     "output_type": "display_data"
    }
   ],
   "source": [
    "from sklearn.metrics import classification_report, confusion_matrix\n",
    "matrix=confusion_matrix(y_train,y_prediction_train)\n",
    "import seaborn as sns\n",
    "x_axis_labels = ['Covid','Normal','Pnuemonia'] # labels for x-axis\n",
    "y_axis_labels = ['Covid','Normal','Pnuemonia']# labels for y-axis\n",
    "\n",
    "# create seabvorn heatmap with required labels\n",
    "sns.heatmap(matrix, xticklabels=x_axis_labels, yticklabels=y_axis_labels,annot=True)\n",
    "\n",
    "\n",
    "\n",
    "print(classification_report(y_train,y_prediction_train))"
   ]
  },
  {
   "cell_type": "code",
   "execution_count": null,
   "id": "e3a05edc",
   "metadata": {},
   "outputs": [],
   "source": []
  }
 ],
 "metadata": {
  "kernelspec": {
   "display_name": "Python 3",
   "language": "python",
   "name": "python3"
  },
  "language_info": {
   "codemirror_mode": {
    "name": "ipython",
    "version": 3
   },
   "file_extension": ".py",
   "mimetype": "text/x-python",
   "name": "python",
   "nbconvert_exporter": "python",
   "pygments_lexer": "ipython3",
   "version": "3.6.13"
  }
 },
 "nbformat": 4,
 "nbformat_minor": 5
}
